{
 "cells": [
  {
   "cell_type": "code",
   "execution_count": 1,
   "metadata": {},
   "outputs": [],
   "source": [
    "import pandas as pd\n",
    "import numpy as np\n",
    "import os\n",
    "from sklearn.metrics.cluster import adjusted_rand_score\n",
    "from sklearn.metrics.cluster import adjusted_mutual_info_score\n",
    "from sklearn.metrics.cluster import homogeneity_score"
   ]
  },
  {
   "cell_type": "code",
   "execution_count": 4,
   "metadata": {},
   "outputs": [],
   "source": [
    "# This function calculated the ami and ari clustering metrics from the predicted labels\n",
    "# given as input file.\n",
    "# Input:\n",
    "# file: A text file with true and predicted labels\n",
    "# Output: -\n",
    "def get_metrics(file):\n",
    "    data = list()\n",
    "    label = list()\n",
    "    parts = file.split(\"/\")\n",
    "    \n",
    "    file = \"../Results/\" + file\n",
    "    f = open(\"../Results/\"+parts[0]+\"/\"+parts[0]+\"_clustering_ami_ari.txt\", \"a+\")\n",
    "    \n",
    "    with open(file, 'r') as fp:\n",
    "        for line in fp:\n",
    "            line = line.rstrip().replace(\"\\\"\", \"\")\n",
    "            part = line.split()\n",
    "            label.append(part[0])\n",
    "            data.append(part[1])\n",
    "            \n",
    "            \n",
    "    ari = adjusted_rand_score(label, data)\n",
    "    ami = adjusted_mutual_info_score(label, data, average_method='arithmetic')\n",
    "    homo = homogeneity_score(label, data)\n",
    "    \n",
    "    f.write(parts[0]+\"    \"+parts[1]+\"    \"+str(round(ami,5))+\"    \"+str(round(ari, 5))+\"\\n\")\n",
    "    \n",
    "    print()"
   ]
  },
  {
   "cell_type": "code",
   "execution_count": null,
   "metadata": {},
   "outputs": [],
   "source": [
    "get_metrics(\"Buenrostro2018/simATACV1_0_0/Buenrostro2018_sim.txt\")\n",
    "get_metrics(\"Buenrostro2018/simATACV2_0_0/Buenrostro2018_sim.txt\")\n",
    "get_metrics(\"Buenrostro2018/simATACV3_0_0/Buenrostro2018_sim.txt\")\n",
    "\n",
    "get_metrics(\"Buenrostro2018/simATACV1_-0.3_0.3/Buenrostro2018_sim.txt\")\n",
    "get_metrics(\"Buenrostro2018/simATACV2_-0.3_0.3/Buenrostro2018_sim.txt\")\n",
    "get_metrics(\"Buenrostro2018/simATACV3_-0.3_0.3/Buenrostro2018_sim.txt\")\n",
    "\n",
    "get_metrics(\"Buenrostro2018/simATACV1_-0.4_0.4/Buenrostro2018_sim.txt\")\n",
    "get_metrics(\"Buenrostro2018/simATACV2_-0.4_0.4/Buenrostro2018_sim.txt\")\n",
    "get_metrics(\"Buenrostro2018/simATACV3_-0.4_0.4/Buenrostro2018_sim.txt\")"
   ]
  },
  {
   "cell_type": "code",
   "execution_count": null,
   "metadata": {},
   "outputs": [],
   "source": [
    "get_metrics(\"Cusanovich2018/simATACV1_0_0/Cusanovich2018_sim.txt\")\n",
    "get_metrics(\"Cusanovich2018/simATACV2_0_0/Cusanovich2018_sim.txt\")\n",
    "get_metrics(\"Cusanovich2018/simATACV3_0_0/Cusanovich2018_sim.txt\")\n",
    "\n",
    "get_metrics(\"Cusanovich2018/simATACV1_-0.3_0.3/Cusanovich2018_sim.txt\")\n",
    "get_metrics(\"Cusanovich2018/simATACV2_-0.3_0.3/Cusanovich2018_sim.txt\")\n",
    "get_metrics(\"Cusanovich2018/simATACV3_-0.3_0.3/Cusanovich2018_sim.txt\")\n",
    "\n",
    "get_metrics(\"Cusanovich2018/simATACV1_-0.4_0.4/Cusanovich2018_sim.txt\")\n",
    "get_metrics(\"Cusanovich2018/simATACV2_-0.4_0.4/Cusanovich2018_sim.txt\")\n",
    "get_metrics(\"Cusanovich2018/simATACV3_-0.4_0.4/Cusanovich2018_sim.txt\")"
   ]
  },
  {
   "cell_type": "code",
   "execution_count": null,
   "metadata": {},
   "outputs": [],
   "source": [
    "get_metrics(\"PBMCs/simATACV1_0_0/PBMCs_sim.txt\")\n",
    "get_metrics(\"PBMCs/simATACV2_0_0/PBMCs_sim.txt\")\n",
    "get_metrics(\"PBMCs/simATACV3_0_0/PBMCs_sim.txt\")\n",
    "\n",
    "get_metrics(\"PBMCs/simATACV1_-0.3_0.3/PBMCs_sim.txt\")\n",
    "get_metrics(\"PBMCs/simATACV2_-0.3_0.3/PBMCs_sim.txt\")\n",
    "get_metrics(\"PBMCs/simATACV3_-0.3_0.3/PBMCs_sim.txt\")\n",
    "\n",
    "get_metrics(\"PBMCs/simATACV1_-0.4_0.4/PBMCs_sim.txt\")\n",
    "get_metrics(\"PBMCs/simATACV2_-0.4_0.4/PBMCs_sim.txt\")\n",
    "get_metrics(\"PBMCs/simATACV3_-0.4_0.4/PBMCs_sim.txt\")"
   ]
  },
  {
   "cell_type": "code",
   "execution_count": null,
   "metadata": {},
   "outputs": [],
   "source": []
  },
  {
   "cell_type": "code",
   "execution_count": null,
   "metadata": {},
   "outputs": [],
   "source": []
  },
  {
   "cell_type": "code",
   "execution_count": null,
   "metadata": {},
   "outputs": [],
   "source": []
  },
  {
   "cell_type": "code",
   "execution_count": null,
   "metadata": {},
   "outputs": [],
   "source": []
  },
  {
   "cell_type": "code",
   "execution_count": null,
   "metadata": {},
   "outputs": [],
   "source": []
  }
 ],
 "metadata": {
  "kernelspec": {
   "display_name": "Python 3",
   "language": "python",
   "name": "python3"
  },
  "language_info": {
   "codemirror_mode": {
    "name": "ipython",
    "version": 3
   },
   "file_extension": ".py",
   "mimetype": "text/x-python",
   "name": "python",
   "nbconvert_exporter": "python",
   "pygments_lexer": "ipython3",
   "version": "3.6.9"
  }
 },
 "nbformat": 4,
 "nbformat_minor": 2
}
