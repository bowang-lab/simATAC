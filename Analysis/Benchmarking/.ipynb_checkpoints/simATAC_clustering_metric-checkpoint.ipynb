{
 "cells": [
  {
   "cell_type": "code",
   "execution_count": 3,
   "metadata": {},
   "outputs": [],
   "source": [
    "import pandas as pd\n",
    "import numpy as np\n",
    "import os\n",
    "from sklearn.metrics.cluster import adjusted_rand_score\n",
    "from sklearn.metrics.cluster import adjusted_mutual_info_score\n",
    "from sklearn.metrics.cluster import homogeneity_score"
   ]
  },
  {
   "cell_type": "code",
   "execution_count": 4,
   "metadata": {},
   "outputs": [],
   "source": [
    "def get_metrics(file):\n",
    "    data = list()\n",
    "    label = list()\n",
    "    parts = file.split(\"/\")\n",
    "    \n",
    "    file = \"../Results/\" + file\n",
    "    f = open(\"../Results/\"+parts[0]+\"/\"+parts[0]+\"_clustering_results.txt\", \"a+\")\n",
    "    \n",
    "    with open(file, 'r') as fp:\n",
    "        for line in fp:\n",
    "            line = line.rstrip().replace(\"\\\"\", \"\")\n",
    "            part = line.split()\n",
    "            label.append(part[0])\n",
    "            data.append(part[1])\n",
    "            \n",
    "            \n",
    "    ari = adjusted_rand_score(label, data)\n",
    "    ami = adjusted_mutual_info_score(label, data,average_method='arithmetic')\n",
    "    homo = homogeneity_score(label, data)\n",
    "    \n",
    "    print(str(round(ami,5))+\"    \"+str(round(ari, 5))+\"    \"+str(round(homo, 5)))\n",
    "    \n",
    "    f.write(parts[0]+\"    \"+parts[1]+\"    \"+str(round(ami,5))+\"    \"+str(round(ari, 5))+\"    \"+str(round(homo, 5))+\"\\n\")\n",
    "    \n",
    "    print()"
   ]
  },
  {
   "cell_type": "code",
   "execution_count": 5,
   "metadata": {},
   "outputs": [
    {
     "name": "stdout",
     "output_type": "stream",
     "text": [
      "['Buenrostro', 'simATACV1_0', 'Buenrostro_sim.txt']\n",
      "0.84196    0.55761    0.99875\n",
      "\n",
      "['Buenrostro', 'simATACV2_0', 'Buenrostro_sim.txt']\n",
      "0.84772    0.57072    1.0\n",
      "\n",
      "['Buenrostro', 'simATACV3_0', 'Buenrostro_sim.txt']\n",
      "0.85255    0.57664    1.0\n",
      "\n",
      "['Buenrostro', 'simATACV1_-0.3_0.3', 'Buenrostro_sim.txt']\n",
      "0.84124    0.56333    0.99629\n",
      "\n",
      "['Buenrostro', 'simATACV2_-0.3_0.3', 'Buenrostro_sim.txt']\n",
      "0.83447    0.55879    0.98939\n",
      "\n",
      "['Buenrostro', 'simATACV3_-0.3_0.3', 'Buenrostro_sim.txt']\n",
      "0.83377    0.54079    0.99317\n",
      "\n",
      "['Buenrostro', 'simATACV1_-0.4_0.4', 'Buenrostro_sim.txt']\n",
      "0.79839    0.51205    0.9586\n",
      "\n",
      "['Buenrostro', 'simATACV2_-0.4_0.4', 'Buenrostro_sim.txt']\n",
      "0.77689    0.4792    0.9402\n",
      "\n",
      "['Buenrostro', 'simATACV3_-0.4_0.4', 'Buenrostro_sim.txt']\n",
      "0.82198    0.53156    0.97888\n",
      "\n"
     ]
    }
   ],
   "source": [
    "#get_metrics(\"Buenrostro/RunV1_0/Buenrostro_sim.txt\")\n",
    "#get_metrics(\"Buenrostro/RunV1_0.2/Buenrostro_sim.txt\")\n",
    "#get_metrics(\"Buenrostro/RunV1_0.3/Buenrostro_sim.txt\")\n",
    "#get_metrics(\"Buenrostro/RunV1_0.32/Buenrostro_sim.txt\")\n",
    "#get_metrics(\"Buenrostro/RunV1_0.35/Buenrostro_sim.txt\")\n",
    "#get_metrics(\"Buenrostro/RunV1_0.4/Buenrostro_sim.txt\")\n",
    "\n",
    "#get_metrics(\"Buenrostro/RunV2_0/Buenrostro_sim.txt\")\n",
    "#get_metrics(\"Buenrostro/RunV2_0.2/Buenrostro_sim.txt\")\n",
    "#get_metrics(\"Buenrostro/RunV2_0.3/Buenrostro_sim.txt\")\n",
    "#get_metrics(\"Buenrostro/RunV2_0.32/Buenrostro_sim.txt\")\n",
    "#get_metrics(\"Buenrostro/RunV2_0.35/Buenrostro_sim.txt\")\n",
    "#get_metrics(\"Buenrostro/RunV2_0.4/Buenrostro_sim.txt\")\n",
    "\n",
    "#get_metrics(\"Buenrostro/RunV3_0/Buenrostro_sim.txt\")\n",
    "#get_metrics(\"Buenrostro/RunV3_0.2/Buenrostro_sim.txt\")\n",
    "#get_metrics(\"Buenrostro/RunV3_0.3/Buenrostro_sim.txt\")\n",
    "#get_metrics(\"Buenrostro/RunV3_0.32/Buenrostro_sim.txt\")\n",
    "#get_metrics(\"Buenrostro/RunV3_0.35/Buenrostro_sim.txt\")\n",
    "#get_metrics(\"Buenrostro/RunV3_0.4/Buenrostro_sim.txt\")\n",
    "#get_metrics(\"Buenrostro/v423/Buenrostro_sim.txt\")\n",
    "#get_metrics(\"Buenrostro/v426/Buenrostro_sim.txt\")\n",
    "#get_metrics(\"Buenrostro/v427/Buenrostro_sim.txt\")\n",
    "#get_metrics(\"Buenrostro/v428/Buenrostro_sim.txt\")\n",
    "#get_metrics(\"Buenrostro/v429/Buenrostro_sim.txt\")\n",
    "#get_metrics(\"Buenrostro/v431/Buenrostro_sim.txt\")\n",
    "#get_metrics(\"Buenrostro/v445/Buenrostro_sim.txt\")\n",
    "\n",
    "#print(\"-------\")\n",
    "#get_metrics(\"Buenrostro/v446/Buenrostro_sim.txt\")\n",
    "#get_metrics(\"Buenrostro/v447/Buenrostro_sim.txt\")\n",
    "#get_metrics(\"Buenrostro/v448/Buenrostro_sim.txt\")\n",
    "#get_metrics(\"Buenrostro/v449/Buenrostro_sim.txt\")\n",
    "#get_metrics(\"Buenrostro/v450/Buenrostro_sim.txt\")\n",
    "#get_metrics(\"Buenrostro/v451/Buenrostro_sim.txt\")\n",
    "#get_metrics(\"Buenrostro/v452/Buenrostro_sim.txt\")\n",
    "#get_metrics(\"Buenrostro/v453/Buenrostro_sim.txt\")\n",
    "#get_metrics(\"Buenrostro/v454/Buenrostro_sim.txt\")\n",
    "#get_metrics(\"Buenrostro/v455/Buenrostro_sim.txt\")\n",
    "\n",
    "\n",
    "\n",
    "get_metrics(\"Buenrostro/simATACV1_0/Buenrostro_sim.txt\")\n",
    "get_metrics(\"Buenrostro/simATACV2_0/Buenrostro_sim.txt\")\n",
    "get_metrics(\"Buenrostro/simATACV3_0/Buenrostro_sim.txt\")\n",
    "\n",
    "get_metrics(\"Buenrostro/simATACV1_-0.3_0.3/Buenrostro_sim.txt\")\n",
    "get_metrics(\"Buenrostro/simATACV2_-0.3_0.3/Buenrostro_sim.txt\")\n",
    "get_metrics(\"Buenrostro/simATACV3_-0.3_0.3/Buenrostro_sim.txt\")\n",
    "\n",
    "get_metrics(\"Buenrostro/simATACV1_-0.4_0.4/Buenrostro_sim.txt\")\n",
    "get_metrics(\"Buenrostro/simATACV2_-0.4_0.4/Buenrostro_sim.txt\")\n",
    "get_metrics(\"Buenrostro/simATACV3_-0.4_0.4/Buenrostro_sim.txt\")\n"
   ]
  },
  {
   "cell_type": "code",
   "execution_count": 6,
   "metadata": {},
   "outputs": [
    {
     "name": "stdout",
     "output_type": "stream",
     "text": [
      "['Cusanovich', 'simATACV1_0', 'Cusanovich_sim.txt']\n",
      "0.97574    0.9529    0.96577\n",
      "\n",
      "['Cusanovich', 'simATACV2_0', 'Cusanovich_sim.txt']\n",
      "0.97332    0.95071    0.96549\n",
      "\n",
      "['Cusanovich', 'simATACV3_0', 'Cusanovich_sim.txt']\n",
      "0.9762    0.95411    0.96594\n",
      "\n",
      "['Cusanovich', 'simATACV1_-0.3_0.3', 'Cusanovich_sim.txt']\n",
      "0.85579    0.70067    0.92406\n",
      "\n",
      "['Cusanovich', 'simATACV2_-0.3_0.3', 'Cusanovich_sim.txt']\n",
      "0.85301    0.71953    0.92235\n",
      "\n",
      "['Cusanovich', 'simATACV3_-0.3_0.3', 'Cusanovich_sim.txt']\n",
      "0.84734    0.69295    0.91587\n",
      "\n",
      "['Cusanovich', 'simATACV1_-0.4_0.4', 'Cusanovich_sim.txt']\n",
      "0.72347    0.41054    0.84248\n",
      "\n",
      "['Cusanovich', 'simATACV2_-0.4_0.4', 'Cusanovich_sim.txt']\n",
      "0.72507    0.40482    0.85157\n",
      "\n",
      "['Cusanovich', 'simATACV3_-0.4_0.4', 'Cusanovich_sim.txt']\n",
      "0.72222    0.41167    0.84548\n",
      "\n"
     ]
    }
   ],
   "source": [
    "#get_metrics(\"Cusanovich/RunV1_0/Cusanovich_sim.txt\")\n",
    "#get_metrics(\"Cusanovich/RunV1_0.2/Cusanovich_sim.txt\")\n",
    "#get_metrics(\"Cusanovich/RunV1_0.3/Cusanovich_sim.txt\")\n",
    "#get_metrics(\"Cusanovich/RunV1_0.32/Cusanovich_sim.txt\")\n",
    "#get_metrics(\"Cusanovich/RunV1_0.35/Cusanovich_sim.txt\")\n",
    "#get_metrics(\"Cusanovich/RunV1_0.4/Cusanovich_sim.txt\")\n",
    "\n",
    "#get_metrics(\"Cusanovich/RunV2_0/Cusanovich_sim.txt\")\n",
    "#get_metrics(\"Cusanovich/RunV2_0.2/Cusanovich_sim.txt\")\n",
    "#get_metrics(\"Cusanovich/RunV2_0.3/Cusanovich_sim.txt\")\n",
    "#get_metrics(\"Cusanovich/RunV2_0.32/Cusanovich_sim.txt\")\n",
    "#get_metrics(\"Cusanovich/RunV2_0.35/Cusanovich_sim.txt\")\n",
    "#get_metrics(\"Cusanovich/RunV2_0.4/Cusanovich_sim.txt\")\n",
    "\n",
    "#get_metrics(\"Cusanovich/RunV3_0/Cusanovich_sim.txt\")\n",
    "#get_metrics(\"Cusanovich/RunV3_0.2/Cusanovich_sim.txt\")\n",
    "#get_metrics(\"Cusanovich/RunV3_0.3/Cusanovich_sim.txt\")\n",
    "#get_metrics(\"Cusanovich/RunV3_0.32/Cusanovich_sim.txt\")\n",
    "#get_metrics(\"Cusanovich/RunV3_0.35/Cusanovich_sim.txt\")\n",
    "#get_metrics(\"Cusanovich/RunV3_0.4/Cusanovich_sim.txt\")\n",
    "\n",
    "#get_metrics(\"Cusanovich/v424/Cusanovich_sim.txt\")\n",
    "#get_metrics(\"Cusanovich/v432/Cusanovich_sim.txt\")\n",
    "#get_metrics(\"Cusanovich/v433/Cusanovich_sim.txt\")\n",
    "#get_metrics(\"Cusanovich/v434/Cusanovich_sim.txt\")\n",
    "#get_metrics(\"Cusanovich/v435/Cusanovich_sim.txt\")\n",
    "#get_metrics(\"Cusanovich/v436/Cusanovich_sim.txt\")\n",
    "#get_metrics(\"Cusanovich/v437/Cusanovich_sim.txt\")\n",
    "\n",
    "#get_metrics(\"Cusanovich/v501Mean-0.4Sd0.4/Cusanovich_sim.txt\")\n",
    "#get_metrics(\"Cusanovich/v500Mean-0.3Sd0.3/Cusanovich_sim.txt\")\n",
    "#get_metrics(\"Cusanovich/v499Mean-0.2Sd0.2/Cusanovich_sim.txt\")\n",
    "\n",
    "get_metrics(\"Cusanovich/simATACV1_0/Cusanovich_sim.txt\")\n",
    "get_metrics(\"Cusanovich/simATACV2_0/Cusanovich_sim.txt\")\n",
    "get_metrics(\"Cusanovich/simATACV3_0/Cusanovich_sim.txt\")\n",
    "\n",
    "get_metrics(\"Cusanovich/simATACV1_-0.3_0.3/Cusanovich_sim.txt\")\n",
    "get_metrics(\"Cusanovich/simATACV2_-0.3_0.3/Cusanovich_sim.txt\")\n",
    "get_metrics(\"Cusanovich/simATACV3_-0.3_0.3/Cusanovich_sim.txt\")\n",
    "\n",
    "get_metrics(\"Cusanovich/simATACV1_-0.4_0.4/Cusanovich_sim.txt\")\n",
    "get_metrics(\"Cusanovich/simATACV2_-0.4_0.4/Cusanovich_sim.txt\")\n",
    "get_metrics(\"Cusanovich/simATACV3_-0.4_0.4/Cusanovich_sim.txt\")"
   ]
  },
  {
   "cell_type": "code",
   "execution_count": 7,
   "metadata": {},
   "outputs": [
    {
     "name": "stdout",
     "output_type": "stream",
     "text": [
      "['PBMC', 'simATACV1_0', 'PBMC_sim.txt']\n",
      "0.8857    0.74324    0.98563\n",
      "\n",
      "['PBMC', 'simATACV2_0', 'PBMC_sim.txt']\n",
      "0.90103    0.78529    0.98375\n",
      "\n",
      "['PBMC', 'simATACV3_0', 'PBMC_sim.txt']\n",
      "0.87261    0.71815    0.97636\n",
      "\n",
      "['PBMC', 'simATACV1_-0.3_0.3', 'PBMC_sim.txt']\n",
      "0.7289    0.47765    0.90005\n",
      "\n",
      "['PBMC', 'simATACV2_-0.3_0.3', 'PBMC_sim.txt']\n",
      "0.72657    0.46106    0.90717\n",
      "\n",
      "['PBMC', 'simATACV3_-0.3_0.3', 'PBMC_sim.txt']\n",
      "0.73822    0.50204    0.90769\n",
      "\n",
      "['PBMC', 'simATACV1_-0.4_0.4', 'PBMC_sim.txt']\n",
      "0.61972    0.38335    0.74739\n",
      "\n",
      "['PBMC', 'simATACV2_-0.4_0.4', 'PBMC_sim.txt']\n",
      "0.62743    0.37991    0.76414\n",
      "\n",
      "['PBMC', 'simATACV3_-0.4_0.4', 'PBMC_sim.txt']\n",
      "0.59085    0.33975    0.72712\n",
      "\n"
     ]
    }
   ],
   "source": [
    "#get_metrics(\"PBMC/RunV1_0/PBMC_sim.txt\")\n",
    "#get_metrics(\"PBMC/RunV1_0.2/PBMC_sim.txt\")\n",
    "#get_metrics(\"PBMC/RunV1_0.3/PBMC_sim.txt\")\n",
    "#get_metrics(\"PBMC/RunV1_0.32/PBMC_sim.txt\")\n",
    "#get_metrics(\"PBMC/RunV1_0.35/PBMC_sim.txt\")\n",
    "#get_metrics(\"PBMC/RunV1_0.4/PBMC_sim.txt\")\n",
    "\n",
    "#get_metrics(\"PBMC/RunV2_0/PBMC_sim.txt\")\n",
    "#get_metrics(\"PBMC/RunV2_0.2/PBMC_sim.txt\")\n",
    "#get_metrics(\"PBMC/RunV2_0.3/PBMC_sim.txt\")\n",
    "#get_metrics(\"PBMC/RunV2_0.32/PBMC_sim.txt\")\n",
    "#get_metrics(\"PBMC/RunV2_0.35/PBMC_sim.txt\")\n",
    "#get_metrics(\"PBMC/RunV2_0.4/PBMC_sim.txt\")\n",
    "\n",
    "#get_metrics(\"PBMC/RunV3_0/PBMC_sim.txt\")\n",
    "#get_metrics(\"PBMC/RunV3_0.2/PBMC_sim.txt\")\n",
    "#get_metrics(\"PBMC/RunV3_0.3/PBMC_sim.txt\")\n",
    "#get_metrics(\"PBMC/RunV3_0.32/PBMC_sim.txt\")\n",
    "#get_metrics(\"PBMC/RunV3_0.35/PBMC_sim.txt\")\n",
    "#get_metrics(\"PBMC/RunV3_0.4/PBMC_sim.txt\")\n",
    "#get_metrics(\"PBMC/v425/PBMC_sim.txt\")\n",
    "\n",
    "get_metrics(\"PBMC/simATACV1_0/PBMC_sim.txt\")\n",
    "get_metrics(\"PBMC/simATACV2_0/PBMC_sim.txt\")\n",
    "get_metrics(\"PBMC/simATACV3_0/PBMC_sim.txt\")\n",
    "\n",
    "get_metrics(\"PBMC/simATACV1_-0.3_0.3/PBMC_sim.txt\")\n",
    "get_metrics(\"PBMC/simATACV2_-0.3_0.3/PBMC_sim.txt\")\n",
    "get_metrics(\"PBMC/simATACV3_-0.3_0.3/PBMC_sim.txt\")\n",
    "\n",
    "get_metrics(\"PBMC/simATACV1_-0.4_0.4/PBMC_sim.txt\")\n",
    "get_metrics(\"PBMC/simATACV2_-0.4_0.4/PBMC_sim.txt\")\n",
    "get_metrics(\"PBMC/simATACV3_-0.4_0.4/PBMC_sim.txt\")"
   ]
  },
  {
   "cell_type": "code",
   "execution_count": 8,
   "metadata": {},
   "outputs": [
    {
     "name": "stdout",
     "output_type": "stream",
     "text": [
      "0.47223    0.2199    0.54802\n",
      "\n"
     ]
    }
   ],
   "source": [
    "get_metrics(\"Cusanovich/RunV1_0/Cusanovich_real.txt\")"
   ]
  },
  {
   "cell_type": "code",
   "execution_count": 8,
   "metadata": {},
   "outputs": [
    {
     "name": "stdout",
     "output_type": "stream",
     "text": [
      "['Buenrostro', 'simATACV1_0', 'Buenrostro_real.txt']\n",
      "0.65553    0.40109    0.77306\n",
      "\n"
     ]
    }
   ],
   "source": [
    "get_metrics(\"Buenrostro/simATACV1_0/Buenrostro_real.txt\")"
   ]
  },
  {
   "cell_type": "code",
   "execution_count": 11,
   "metadata": {},
   "outputs": [
    {
     "name": "stdout",
     "output_type": "stream",
     "text": [
      "['PBMC', 'simATACV1_0', 'PBMC_real.txt']\n",
      "0.54447    0.2916    0.67711\n",
      "\n"
     ]
    }
   ],
   "source": [
    "get_metrics(\"PBMC/simATACV1_0/PBMC_real.txt\")"
   ]
  },
  {
   "cell_type": "code",
   "execution_count": 12,
   "metadata": {},
   "outputs": [
    {
     "name": "stdout",
     "output_type": "stream",
     "text": [
      "['Cusanovich', 'simATACV1_0', 'Cusanovich_real.txt']\n",
      "0.46596    0.22282    0.53925\n",
      "\n"
     ]
    }
   ],
   "source": [
    "get_metrics(\"Cusanovich/simATACV1_0/Cusanovich_real.txt\")"
   ]
  },
  {
   "cell_type": "code",
   "execution_count": null,
   "metadata": {},
   "outputs": [],
   "source": []
  }
 ],
 "metadata": {
  "kernelspec": {
   "display_name": "Python 3",
   "language": "python",
   "name": "python3"
  },
  "language_info": {
   "codemirror_mode": {
    "name": "ipython",
    "version": 3
   },
   "file_extension": ".py",
   "mimetype": "text/x-python",
   "name": "python",
   "nbconvert_exporter": "python",
   "pygments_lexer": "ipython3",
   "version": "3.6.9"
  }
 },
 "nbformat": 4,
 "nbformat_minor": 2
}
