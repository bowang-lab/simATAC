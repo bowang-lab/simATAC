{
 "cells": [
  {
   "cell_type": "code",
   "execution_count": 1,
   "metadata": {},
   "outputs": [],
   "source": [
    "import pandas as pd\n",
    "import numpy as np\n",
    "import os\n",
    "from sklearn.metrics.cluster import adjusted_rand_score\n",
    "from sklearn.metrics.cluster import adjusted_mutual_info_score\n",
    "from sklearn.metrics.cluster import homogeneity_score"
   ]
  },
  {
   "cell_type": "code",
   "execution_count": 4,
   "metadata": {},
   "outputs": [],
   "source": [
    "# This function calculated the ami and ari clustering metrics from the predicted labels\n",
    "# given as input file.\n",
    "# Input:\n",
    "# file: A text file with true and predicted labels\n",
    "# Output: -\n",
    "def get_metrics(file):\n",
    "    data = list()\n",
    "    label = list()\n",
    "    parts = file.split(\"/\")\n",
    "    \n",
    "    file = \"../Results/\" + file\n",
    "    f = open(\"../Results/\"+parts[0]+\"/\"+parts[0]+\"_clustering_ami_ari.txt\", \"a+\")\n",
    "    \n",
    "    with open(file, 'r') as fp:\n",
    "        for line in fp:\n",
    "            line = line.rstrip().replace(\"\\\"\", \"\")\n",
    "            part = line.split()\n",
    "            label.append(part[0])\n",
    "            data.append(part[1])\n",
    "            \n",
    "    nmi = normalized_mutual_info_score(label, pred, average_method='max')\n",
    "    ari = adjusted_rand_score(label, data)\n",
    "    ami = adjusted_mutual_info_score(label, data, average_method='arithmetic')\n",
    "    \n",
    "    f.write(parts[0]+\"    \"+parts[1]+\"    \"+str(round(nmi,5))+\"    \"+str(round(ami, 5))+\"    \"+str(round(ari, 5))+\"\\n\")\n",
    "    \n",
    "    print()"
   ]
  },
  {
   "cell_type": "code",
   "execution_count": null,
   "metadata": {},
   "outputs": [],
   "source": [
    "def analyze_version(name, version):\n",
    "    \n",
    "    get_metrics(name+\"/Seurat_\"+name+\"_\"+version+\"_0_0_1_sim.peak_30000.txt\")\n",
    "    get_metrics(name+\"/Seurat_\"+name+\"_\"+version+\"_0_0_1_sim.peak_40000.txt\")\n",
    "    get_metrics(name+\"/Seurat_\"+name+\"_\"+version+\"_0_0_1_sim.peak_50000.txt\")\n",
    "    get_metrics(name+\"/Seurat_\"+name+\"_\"+version+\"_0_0_1_sim.peak_60000.txt\")\n",
    "\n",
    "    get_metrics(name+\"/Seurat_\"+name+\"_\"+version+\"_-0.3_0.3_1_sim.peak_30000.txt\")\n",
    "    get_metrics(name+\"/Seurat_\"+name+\"_\"+version+\"_-0.3_0.3_1_sim.peak_40000.txt\")\n",
    "    get_metrics(name+\"/Seurat_\"+name+\"_\"+version+\"_-0.3_0.3_1_sim.peak_50000.txt\")\n",
    "    get_metrics(name+\"/Seurat_\"+name+\"_\"+version+\"_-0.3_0.3_1_sim.peak_60000.txt\")\n",
    "\n",
    "    get_metrics(name+\"/Seurat_\"+name+\"_\"+version+\"_-0.4_0.4_1_sim.peak_30000.txt\")\n",
    "    get_metrics(name+\"/Seurat_\"+name+\"_\"+version+\"_-0.4_0.4_1_sim.peak_40000.txt\")\n",
    "    get_metrics(name+\"/Seurat_\"+name+\"_\"+version+\"_-0.4_0.4_1_sim.peak_50000.txt\")\n",
    "    get_metrics(name+\"/Seurat_\"+name+\"_\"+version+\"_-0.4_0.4_1_sim.peak_60000.txt\")\n",
    "    \n",
    "    get_metrics(name+\"/Seurat_\"+name+\"_\"+version+\"_-0.5_0.5_1_sim.peak_30000.txt\")\n",
    "    get_metrics(name+\"/Seurat_\"+name+\"_\"+version+\"_-0.5_0.5_1_sim.peak_40000.txt\")\n",
    "    get_metrics(name+\"/Seurat_\"+name+\"_\"+version+\"_-0.5_0.5_1_sim.peak_50000.txt\")\n",
    "    get_metrics(name+\"/Seurat_\"+name+\"_\"+version+\"_-0.5_0.5_1_sim.peak_60000.txt\")\n",
    "\n",
    "    \n",
    "def analyze_real(name, version):\n",
    "    \n",
    "    get_metrics(name+\"/Seurat_\"+name+\"_\"+version+\"_0_0_1_real.peak_30000.txt\")\n",
    "    get_metrics(name+\"/Seurat_\"+name+\"_\"+version+\"_0_0_1_real.peak_40000.txt\")\n",
    "    get_metrics(name+\"/Seurat_\"+name+\"_\"+version+\"_0_0_1_real.peak_50000.txt\")\n",
    "    get_metrics(name+\"/Seurat_\"+name+\"_\"+version+\"_0_0_1_real.peak_60000.txt\")\n",
    "\n",
    "    get_metrics(name+\"/Seurat_\"+name+\"_\"+version+\"_-0.3_0.3_1_real.peak_30000.txt\")\n",
    "    get_metrics(name+\"/Seurat_\"+name+\"_\"+version+\"_-0.3_0.3_1_real.peak_40000.txt\")\n",
    "    get_metrics(name+\"/Seurat_\"+name+\"_\"+version+\"_-0.3_0.3_1_real.peak_50000.txt\")\n",
    "    get_metrics(name+\"/Seurat_\"+name+\"_\"+version+\"_-0.3_0.3_1_real.peak_60000.txt\")\n",
    "\n",
    "    get_metrics(name+\"/Seurat_\"+name+\"_\"+version+\"_-0.4_0.4_1_real.peak_30000.txt\")\n",
    "    get_metrics(name+\"/Seurat_\"+name+\"_\"+version+\"_-0.4_0.4_1_real.peak_40000.txt\")\n",
    "    get_metrics(name+\"/Seurat_\"+name+\"_\"+version+\"_-0.4_0.4_1_real.peak_50000.txt\")\n",
    "    get_metrics(name+\"/Seurat_\"+name+\"_\"+version+\"_-0.4_0.4_1_real.peak_60000.txt\")\n",
    "\n",
    "    get_metrics(name+\"/Seurat_\"+name+\"_\"+version+\"_-0.5_0.5_1_real.peak_30000.txt\")\n",
    "    get_metrics(name+\"/Seurat_\"+name+\"_\"+version+\"_-0.5_0.5_1_real.peak_40000.txt\")\n",
    "    get_metrics(name+\"/Seurat_\"+name+\"_\"+version+\"_-0.5_0.5_1_real.peak_50000.txt\")\n",
    "    get_metrics(name+\"/Seurat_\"+name+\"_\"+version+\"_-0.5_0.5_1_real.peak_60000.txt\")"
   ]
  },
  {
   "cell_type": "code",
   "execution_count": null,
   "metadata": {},
   "outputs": [],
   "source": [
    "# analyze_version('Buenrostro2018', 'BuenrostroV1')\n",
    "# analyze_version('Buenrostro2018', 'BuenrostroV2')\n",
    "# analyze_version('Buenrostro2018', 'BuenrostroV3')\n",
    "# analyze_version('Buenrostro2018', 'BuenrostroV4')\n",
    "# analyze_version('Buenrostro2018', 'BuenrostroV5')\n",
    "# analyze_version('Buenrostro2018', 'BuenrostroV6')\n",
    "# analyze_version('Buenrostro2018', 'BuenrostroV7')\n",
    "# analyze_version('Buenrostro2018', 'BuenrostroV8')\n",
    "# analyze_version('Buenrostro2018', 'BuenrostroV9')\n",
    "# analyze_version('Buenrostro2018', 'BuenrostroV10')\n",
    "# analyze_version('Buenrostro2018', 'BuenrostroV11')\n",
    "# analyze_version('Buenrostro2018', 'BuenrostroV12')\n",
    "# analyze_version('Buenrostro2018', 'BuenrostroV13')\n",
    "# analyze_version('Buenrostro2018', 'BuenrostroV14')\n",
    "# analyze_version('Buenrostro2018', 'BuenrostroV15')\n",
    "# analyze_version('Buenrostro2018', 'BuenrostroV16')\n",
    "# analyze_version('Buenrostro2018', 'BuenrostroV17')\n",
    "# analyze_version('Buenrostro2018', 'BuenrostroV18')\n",
    "# analyze_version('Buenrostro2018', 'BuenrostroV19')\n",
    "# analyze_version('Buenrostro2018', 'BuenrostroV20')\n",
    "# analyze_real('Buenrostro2018', 'BuenrostroV1')"
   ]
  },
  {
   "cell_type": "code",
   "execution_count": null,
   "metadata": {},
   "outputs": [],
   "source": []
  },
  {
   "cell_type": "code",
   "execution_count": null,
   "metadata": {},
   "outputs": [],
   "source": []
  },
  {
   "cell_type": "code",
   "execution_count": null,
   "metadata": {},
   "outputs": [],
   "source": []
  },
  {
   "cell_type": "code",
   "execution_count": null,
   "metadata": {},
   "outputs": [],
   "source": []
  },
  {
   "cell_type": "code",
   "execution_count": null,
   "metadata": {},
   "outputs": [],
   "source": []
  },
  {
   "cell_type": "code",
   "execution_count": null,
   "metadata": {},
   "outputs": [],
   "source": []
  }
 ],
 "metadata": {
  "kernelspec": {
   "display_name": "Python 3",
   "language": "python",
   "name": "python3"
  },
  "language_info": {
   "codemirror_mode": {
    "name": "ipython",
    "version": 3
   },
   "file_extension": ".py",
   "mimetype": "text/x-python",
   "name": "python",
   "nbconvert_exporter": "python",
   "pygments_lexer": "ipython3",
   "version": "3.7.4"
  }
 },
 "nbformat": 4,
 "nbformat_minor": 2
}
